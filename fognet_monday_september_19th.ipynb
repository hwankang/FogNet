{
  "nbformat": 4,
  "nbformat_minor": 0,
  "metadata": {
    "colab": {
      "provenance": [],
      "collapsed_sections": [],
      "authorship_tag": "ABX9TyMYhzALFkddGYFq0nPBrw4G",
      "include_colab_link": true
    },
    "kernelspec": {
      "name": "python3",
      "display_name": "Python 3"
    },
    "language_info": {
      "name": "python"
    }
  },
  "cells": [
    {
      "cell_type": "markdown",
      "metadata": {
        "id": "view-in-github",
        "colab_type": "text"
      },
      "source": [
        "<a href=\"https://colab.research.google.com/github/hwankang/FogNet/blob/main/fognet_monday_september_19th.ipynb\" target=\"_parent\"><img src=\"https://colab.research.google.com/assets/colab-badge.svg\" alt=\"Open In Colab\"/></a>"
      ]
    },
    {
      "cell_type": "code",
      "execution_count": 1,
      "metadata": {
        "colab": {
          "base_uri": "https://localhost:8080/"
        },
        "id": "zaHbbPxCctmt",
        "outputId": "a7eea3e3-3b02-457f-83cb-93cf39f3eb65"
      },
      "outputs": [
        {
          "output_type": "stream",
          "name": "stdout",
          "text": [
            "                  g  28%[====>               ] 283.71M  2.01MB/s    eta 5m 50s ^C\n"
          ]
        }
      ],
      "source": [
        "!wget -m https://gridftp.tamucc.edu/fognet/datashare/archive/datasets/24HOURS"
      ]
    }
  ]
}